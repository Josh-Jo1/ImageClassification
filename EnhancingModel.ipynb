{
 "cells": [
  {
   "cell_type": "code",
   "execution_count": 1,
   "metadata": {},
   "outputs": [],
   "source": [
    "from tensorflow.keras import datasets, layers, models\n",
    "\n",
    "(X_train, y_train), (X_test, y_test) = datasets.cifar10.load_data()\n",
    "\n",
    "y_train = y_train.reshape(-1,)\n",
    "y_test = y_test.reshape(-1,)\n",
    "\n",
    "classes = [\"airplane\", \"automobile\", \"bird\", \"cat\", \"deer\", \"dog\", \"frog\", \"horse\", \"ship\", \"truck\"]\n",
    "\n",
    "# normalizing\n",
    "X_train = X_train / 255.0\n",
    "X_test = X_test / 255.0"
   ]
  },
  {
   "cell_type": "code",
   "execution_count": 2,
   "metadata": {},
   "outputs": [],
   "source": [
    "cnn = models.Sequential([\n",
    "    # preprocess\n",
    "    layers.RandomFlip(\"horizontal\"),\n",
    "\n",
    "    # cnn\n",
    "    layers.Conv2D(filters=32, kernel_size=(3,3), input_shape=(32,32,3)),\n",
    "    layers.BatchNormalization(),\n",
    "    layers.Activation('relu'),\n",
    "    layers.MaxPooling2D((2,2)),\n",
    "\n",
    "    layers.Conv2D(filters=64, kernel_size=(3,3)),\n",
    "    layers.BatchNormalization(),\n",
    "    layers.Activation('relu'),\n",
    "    layers.MaxPooling2D((2,2)),\n",
    "\n",
    "    layers.Conv2D(filters=128, kernel_size=(3,3)),\n",
    "    layers.BatchNormalization(),\n",
    "    layers.Activation('relu'),\n",
    "    layers.MaxPooling2D((2,2)),\n",
    "    \n",
    "    # dense\n",
    "    layers.Flatten(),\n",
    "    layers.Dense(128),\n",
    "    layers.BatchNormalization(),\n",
    "    layers.Activation('relu'),\n",
    "\n",
    "    # output\n",
    "    layers.Dense(10, activation='softmax')\n",
    "])\n",
    "\n",
    "cnn.compile(optimizer='adam',\n",
    "            loss='sparse_categorical_crossentropy',\n",
    "            metrics=['accuracy'])"
   ]
  },
  {
   "cell_type": "code",
   "execution_count": 3,
   "metadata": {},
   "outputs": [
    {
     "name": "stdout",
     "output_type": "stream",
     "text": [
      "Epoch 1/10\n",
      "1563/1563 [==============================] - 57s 35ms/step - loss: 1.2178 - accuracy: 0.5672\n",
      "Epoch 2/10\n",
      "1563/1563 [==============================] - 54s 35ms/step - loss: 0.8926 - accuracy: 0.6885\n",
      "Epoch 3/10\n",
      "1563/1563 [==============================] - 54s 35ms/step - loss: 0.7704 - accuracy: 0.7315\n",
      "Epoch 4/10\n",
      "1563/1563 [==============================] - 55s 35ms/step - loss: 0.6947 - accuracy: 0.7600\n",
      "Epoch 5/10\n",
      "1563/1563 [==============================] - 54s 34ms/step - loss: 0.6355 - accuracy: 0.7799\n",
      "Epoch 6/10\n",
      "1563/1563 [==============================] - 54s 34ms/step - loss: 0.5894 - accuracy: 0.7961\n",
      "Epoch 7/10\n",
      "1563/1563 [==============================] - 54s 35ms/step - loss: 0.5540 - accuracy: 0.8090\n",
      "Epoch 8/10\n",
      "1563/1563 [==============================] - 54s 35ms/step - loss: 0.5162 - accuracy: 0.8203\n",
      "Epoch 9/10\n",
      "1563/1563 [==============================] - 54s 35ms/step - loss: 0.4881 - accuracy: 0.8305\n",
      "Epoch 10/10\n",
      "1563/1563 [==============================] - 54s 35ms/step - loss: 0.4550 - accuracy: 0.8414\n"
     ]
    },
    {
     "data": {
      "text/plain": [
       "<keras.src.callbacks.History at 0x15cd3b83750>"
      ]
     },
     "execution_count": 3,
     "metadata": {},
     "output_type": "execute_result"
    }
   ],
   "source": [
    "cnn.fit(X_train, y_train, epochs=10)"
   ]
  },
  {
   "cell_type": "code",
   "execution_count": 4,
   "metadata": {},
   "outputs": [
    {
     "name": "stdout",
     "output_type": "stream",
     "text": [
      "313/313 [==============================] - 5s 15ms/step - loss: 0.6798 - accuracy: 0.7676\n"
     ]
    },
    {
     "data": {
      "text/plain": [
       "[0.6798160672187805, 0.7675999999046326]"
      ]
     },
     "execution_count": 4,
     "metadata": {},
     "output_type": "execute_result"
    }
   ],
   "source": [
    "cnn.evaluate(X_test, y_test)"
   ]
  },
  {
   "cell_type": "code",
   "execution_count": 5,
   "metadata": {},
   "outputs": [
    {
     "name": "stdout",
     "output_type": "stream",
     "text": [
      "INFO:tensorflow:Assets written to: cnn_model\\assets\n"
     ]
    },
    {
     "name": "stderr",
     "output_type": "stream",
     "text": [
      "INFO:tensorflow:Assets written to: cnn_model\\assets\n"
     ]
    }
   ],
   "source": [
    "cnn.save('cnn_model')"
   ]
  }
 ],
 "metadata": {
  "kernelspec": {
   "display_name": "venv",
   "language": "python",
   "name": "python3"
  },
  "language_info": {
   "codemirror_mode": {
    "name": "ipython",
    "version": 3
   },
   "file_extension": ".py",
   "mimetype": "text/x-python",
   "name": "python",
   "nbconvert_exporter": "python",
   "pygments_lexer": "ipython3",
   "version": "3.11.4"
  },
  "orig_nbformat": 4
 },
 "nbformat": 4,
 "nbformat_minor": 2
}
